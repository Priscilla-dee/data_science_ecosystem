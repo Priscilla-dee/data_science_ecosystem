{
 "cells": [
  {
   "cell_type": "markdown",
   "id": "58ac1fb1",
   "metadata": {},
   "source": [
    "# Data Science Tools and Ecosystem"
   ]
  },
  {
   "cell_type": "markdown",
   "id": "c00ab956",
   "metadata": {},
   "source": [
    "In this notebook, Data Science Tools and Ecosystem are summarized."
   ]
  },
  {
   "cell_type": "markdown",
   "id": "0174606e",
   "metadata": {},
   "source": [
    "<b> Objective </b>\n",
    "<ul>\n",
    "    <li>List of popular languages for Data Science</li>\n",
    "    <li>Commonly used libraries used by Data Scientists</li>\n",
    "    <li>Data Science tools</li>\n",
    "    <li>Evaluating Arithmetic expression in Python</li>"
   ]
  },
  {
   "cell_type": "markdown",
   "id": "bff657c0",
   "metadata": {},
   "source": [
    "<ol>\n",
    "    <p>Some of the popular language that Data Scientist use are </p>\n",
    "    <li>Python</li>\n",
    "    <li>Julia</li>\n",
    "    <li>R</li>\n",
    "</ol>    "
   ]
  },
  {
   "cell_type": "markdown",
   "id": "e3117711",
   "metadata": {},
   "source": [
    "<ol>\n",
    "    <p>Some of the commonly used libraries used by Data Scientists include:</p>\n",
    "    <li>Plotly</li>\n",
    "    <li>NumPy</li>\n",
    "    <li>sciPy</li>\n",
    "    <li>Seaborn</li>\n",
    "    <li>Beautifulsoup</li>\n",
    "</ol>    "
   ]
  },
  {
   "cell_type": "markdown",
   "id": "d193df57",
   "metadata": {},
   "source": [
    "| Data Science Tools |\n",
    "| ---- |\n",
    "| Jupyter Notebooks |\n",
    "| R Studio |\n",
    "| Zeppelin Notebooks |"
   ]
  },
  {
   "cell_type": "markdown",
   "id": "63b6a938",
   "metadata": {},
   "source": [
    "### Below are a examples of evaluating arithmetic expressions in Python."
   ]
  },
  {
   "cell_type": "code",
   "execution_count": 1,
   "id": "a0d1a360",
   "metadata": {},
   "outputs": [
    {
     "data": {
      "text/plain": [
       "17"
      ]
     },
     "execution_count": 1,
     "metadata": {},
     "output_type": "execute_result"
    }
   ],
   "source": [
    "# This a simple arithmetic expression to multiply then add integers.\n",
    "(3*4)+5"
   ]
  },
  {
   "cell_type": "code",
   "execution_count": 3,
   "id": "f3936c7b",
   "metadata": {},
   "outputs": [
    {
     "data": {
      "text/plain": [
       "3.3333333333333335"
      ]
     },
     "execution_count": 3,
     "metadata": {},
     "output_type": "execute_result"
    }
   ],
   "source": [
    "# This will convert 200 minutes to hours by dividing by 60.\n",
    "200 / 60"
   ]
  },
  {
   "cell_type": "markdown",
   "id": "c15cf00c",
   "metadata": {},
   "source": [
    "## Author\n",
    "AYORINDE PRISCILLA"
   ]
  },
  {
   "cell_type": "code",
   "execution_count": null,
   "id": "b6b9d965",
   "metadata": {},
   "outputs": [],
   "source": []
  }
 ],
 "metadata": {
  "kernelspec": {
   "display_name": "Python 3 (ipykernel)",
   "language": "python",
   "name": "python3"
  },
  "language_info": {
   "codemirror_mode": {
    "name": "ipython",
    "version": 3
   },
   "file_extension": ".py",
   "mimetype": "text/x-python",
   "name": "python",
   "nbconvert_exporter": "python",
   "pygments_lexer": "ipython3",
   "version": "3.10.9"
  }
 },
 "nbformat": 4,
 "nbformat_minor": 5
}
